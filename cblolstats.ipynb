{
  "nbformat": 4,
  "nbformat_minor": 0,
  "metadata": {
    "colab": {
      "provenance": [],
      "authorship_tag": "ABX9TyPdSgHbiAcUv7yb/JuCM1/I",
      "include_colab_link": true
    },
    "kernelspec": {
      "name": "python3",
      "display_name": "Python 3"
    },
    "language_info": {
      "name": "python"
    }
  },
  "cells": [
    {
      "cell_type": "markdown",
      "metadata": {
        "id": "view-in-github",
        "colab_type": "text"
      },
      "source": [
        "<a href=\"https://colab.research.google.com/github/linegithub/esportstudies/blob/master/cblolstats.ipynb\" target=\"_parent\"><img src=\"https://colab.research.google.com/assets/colab-badge.svg\" alt=\"Open In Colab\"/></a>"
      ]
    },
    {
      "cell_type": "code",
      "execution_count": null,
      "metadata": {
        "id": "OBuu0KjOCmAX"
      },
      "outputs": [],
      "source": [
        "import pandas as pd\n"
      ]
    },
    {
      "cell_type": "code",
      "source": [
        "df = pd.read_csv(\"20230717-1603_LoL_esports_match_data_from_OraclesElixir.csv\")"
      ],
      "metadata": {
        "id": "dA4maSOiRijG"
      },
      "execution_count": null,
      "outputs": []
    },
    {
      "cell_type": "code",
      "source": [
        "df.head(n = 7)"
      ],
      "metadata": {
        "id": "vQHDEBvIfYZ3"
      },
      "execution_count": null,
      "outputs": []
    },
    {
      "cell_type": "code",
      "source": [
        "df.tail(n=4)"
      ],
      "metadata": {
        "id": "j1yQaOIokfrO"
      },
      "execution_count": null,
      "outputs": []
    },
    {
      "cell_type": "code",
      "source": [
        "df.info()"
      ],
      "metadata": {
        "id": "MHLMAm8bku89"
      },
      "execution_count": null,
      "outputs": []
    },
    {
      "cell_type": "code",
      "source": [
        "colunas = df.columns"
      ],
      "metadata": {
        "id": "OqibHQyuk5qK"
      },
      "execution_count": null,
      "outputs": []
    },
    {
      "cell_type": "code",
      "source": [
        "#col names\n",
        "i=0\n",
        "for col in colunas:\n",
        "  print(i,col)\n",
        "  i+=1"
      ],
      "metadata": {
        "id": "nme07yssqdAg"
      },
      "execution_count": null,
      "outputs": []
    },
    {
      "cell_type": "code",
      "source": [
        "df.isnull().sum()"
      ],
      "metadata": {
        "id": "Pgrbr_OJlTS1"
      },
      "execution_count": null,
      "outputs": []
    },
    {
      "cell_type": "code",
      "source": [
        "df.describe()"
      ],
      "metadata": {
        "id": "LzfUQDmSqQUP"
      },
      "execution_count": null,
      "outputs": []
    },
    {
      "cell_type": "code",
      "source": [
        "# num do split 2 do cblol\n",
        "#df.loc[df['league'] == 'CBLOL']\n",
        "cblol = df.loc[(df['league'] == 'CBLOL') & (df['split'] == 'Split 2')]"
      ],
      "metadata": {
        "id": "5uDzf0rKtNTf"
      },
      "execution_count": null,
      "outputs": []
    },
    {
      "cell_type": "code",
      "source": [
        "# text & obj values\n",
        "cblol[cblol.columns[0:17]]"
      ],
      "metadata": {
        "id": "GfU0RcEcPYDG"
      },
      "execution_count": null,
      "outputs": []
    },
    {
      "cell_type": "code",
      "source": [
        "#kda stats\n",
        "cblol[cblol.columns[17:40]].columns"
      ],
      "metadata": {
        "id": "PvlhrBDUBrfb"
      },
      "execution_count": null,
      "outputs": []
    },
    {
      "cell_type": "code",
      "source": [
        "#obj stats\n",
        "cblol[cblol.columns[40:69]]"
      ],
      "metadata": {
        "id": "K5e6LkZ5BrcO"
      },
      "execution_count": null,
      "outputs": []
    },
    {
      "cell_type": "code",
      "source": [
        "#adv stats\n",
        "cblol[cblol.columns[69:93]]"
      ],
      "metadata": {
        "id": "VQtDPzgABrY6"
      },
      "execution_count": null,
      "outputs": []
    },
    {
      "cell_type": "code",
      "source": [
        "##stats @ 10 min\n",
        "#cblol.columns[93:]\n",
        "cblol[cblol.columns[93:108]]"
      ],
      "metadata": {
        "id": "yGh5mm1tKl6D"
      },
      "execution_count": null,
      "outputs": []
    },
    {
      "cell_type": "code",
      "source": [
        "#stats @ 15 min\n",
        "cblol[cblol.columns[108:]]"
      ],
      "metadata": {
        "id": "H7wUy5j1O6b6"
      },
      "execution_count": null,
      "outputs": []
    },
    {
      "cell_type": "code",
      "source": [
        "cblol[cblol.columns[0:17]].drop(['gameid','datacompleteness','url','playoffs','participantid','playerid','teamid'], axis=1)"
      ],
      "metadata": {
        "id": "f9M0a-9LG_kD"
      },
      "execution_count": null,
      "outputs": []
    },
    {
      "cell_type": "code",
      "source": [
        "cblol.loc[(cblol['position'] == 'team')]"
      ],
      "metadata": {
        "id": "RGdJD7aPBrTV"
      },
      "execution_count": null,
      "outputs": []
    },
    {
      "cell_type": "code",
      "source": [
        "cblol.loc[(cblol['position'] == 'team')]"
      ],
      "metadata": {
        "id": "lbY0LSD9Fxyv"
      },
      "execution_count": null,
      "outputs": []
    },
    {
      "cell_type": "code",
      "source": [
        "#coluna = cblol[cblol.columns[17:108]].columns\n",
        "#tabela = cblol[cblol.columns[0:40]]\n",
        "#tabela = cblol.drop(coluna, axis=1)\n",
        "#tabela = tabela.drop(['gameid','datacompleteness','url','playoffs','participantid','playerid','teamid'], axis=1)\n",
        "tabela.head()"
      ],
      "metadata": {
        "id": "GExQBgVHbuMy"
      },
      "execution_count": null,
      "outputs": []
    },
    {
      "cell_type": "code",
      "source": [
        "#tabelap = tabela.loc[(tabela['position'] == 'team')].drop(['playername','champion','firstbloodkill','firstbloodassist','firstbloodvictim'], axis=1)\n",
        "tabelap = tabela.loc[(tabela['position'] == 'team')]\n",
        "tabelap.to_csv('cblolplayers.csv')"
      ],
      "metadata": {
        "id": "C5uEQDA96301"
      },
      "execution_count": null,
      "outputs": []
    },
    {
      "cell_type": "code",
      "source": [
        "tabelat = tabela.loc[(tabela['position'] != 'team')]\n",
        "tabelat.to_csv('cbloltimes.csv')"
      ],
      "metadata": {
        "id": "D3z-Q5dvgEVj"
      },
      "execution_count": null,
      "outputs": []
    }
  ]
}